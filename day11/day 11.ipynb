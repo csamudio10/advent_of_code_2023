{
 "cells": [
  {
   "cell_type": "markdown",
   "id": "1968252e",
   "metadata": {},
   "source": [
    "# Day 11"
   ]
  },
  {
   "cell_type": "code",
   "execution_count": 14,
   "id": "5c980f4c",
   "metadata": {},
   "outputs": [],
   "source": [
    "day11 = open('day11.txt','r').read()\n",
    "day11 = day11.split(\"\\n\")"
   ]
  },
  {
   "cell_type": "markdown",
   "id": "370bfc8e",
   "metadata": {},
   "source": [
    "## part 1"
   ]
  },
  {
   "cell_type": "code",
   "execution_count": 15,
   "id": "51ff4ac6",
   "metadata": {},
   "outputs": [],
   "source": [
    "test_input = \"\"\"...#......\n",
    ".......#..\n",
    "#.........\n",
    "..........\n",
    "......#...\n",
    ".#........\n",
    ".........#\n",
    "..........\n",
    ".......#..\n",
    "#...#.....\"\"\"\n",
    "\n",
    "test_grid = test_input.splitlines()"
   ]
  },
  {
   "cell_type": "code",
   "execution_count": 16,
   "id": "4e60d592",
   "metadata": {},
   "outputs": [],
   "source": [
    "def sum_shortest_paths(grid,expansion_coeff):\n",
    "    empty_rows = []\n",
    "    empty_cols = []\n",
    "\n",
    "    for i, row in enumerate(grid):\n",
    "        if set(row) == {\".\"}:\n",
    "            empty_rows.append(i)\n",
    "\n",
    "    for j, col in enumerate(zip(*grid)):\n",
    "        if set(col) == {\".\"}:\n",
    "            empty_cols.append(j)\n",
    "\n",
    "\n",
    "    galaxies = []\n",
    "\n",
    "    for i, row in enumerate(grid):\n",
    "        for j, col in enumerate(zip(*grid)):\n",
    "            if grid[i][j] == \"#\":\n",
    "                galaxies.append((i,j))\n",
    "\n",
    "    total = 0\n",
    "\n",
    "    for i, (row1, col1) in enumerate(galaxies):\n",
    "        for (row2, col2) in galaxies[:i]:\n",
    "            for row in range(min(row1, row2), max(row1, row2)):\n",
    "                total += expansion_coeff if row in empty_rows else 1\n",
    "\n",
    "            for col in range(min(col1, col2), max(col1, col2)):\n",
    "                total += expansion_coeff if col in empty_cols else 1\n",
    "    return total"
   ]
  },
  {
   "cell_type": "code",
   "execution_count": 17,
   "id": "042ca74e",
   "metadata": {},
   "outputs": [
    {
     "data": {
      "text/plain": [
       "374"
      ]
     },
     "execution_count": 17,
     "metadata": {},
     "output_type": "execute_result"
    }
   ],
   "source": [
    "sum_shortest_paths(test_grid,2)"
   ]
  },
  {
   "cell_type": "code",
   "execution_count": 18,
   "id": "5bbadd25",
   "metadata": {},
   "outputs": [
    {
     "data": {
      "text/plain": [
       "9681886"
      ]
     },
     "execution_count": 18,
     "metadata": {},
     "output_type": "execute_result"
    }
   ],
   "source": [
    "sum_shortest_paths(day11,2)"
   ]
  },
  {
   "cell_type": "markdown",
   "id": "12bc246c",
   "metadata": {},
   "source": [
    "## part 2"
   ]
  },
  {
   "cell_type": "code",
   "execution_count": 20,
   "id": "394b8d7a",
   "metadata": {},
   "outputs": [
    {
     "data": {
      "text/plain": [
       "791134099634"
      ]
     },
     "execution_count": 20,
     "metadata": {},
     "output_type": "execute_result"
    }
   ],
   "source": [
    "sum_shortest_paths(day11,1_000_000)"
   ]
  }
 ],
 "metadata": {
  "kernelspec": {
   "display_name": "Python 3 (ipykernel)",
   "language": "python",
   "name": "python3"
  },
  "language_info": {
   "codemirror_mode": {
    "name": "ipython",
    "version": 3
   },
   "file_extension": ".py",
   "mimetype": "text/x-python",
   "name": "python",
   "nbconvert_exporter": "python",
   "pygments_lexer": "ipython3",
   "version": "3.10.9"
  }
 },
 "nbformat": 4,
 "nbformat_minor": 5
}
