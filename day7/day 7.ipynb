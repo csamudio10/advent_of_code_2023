{
 "cells": [
  {
   "cell_type": "code",
   "execution_count": 1,
   "id": "9acb2a82",
   "metadata": {},
   "outputs": [],
   "source": [
    "import numpy as np\n",
    "import pandas as pd\n",
    "import collections"
   ]
  },
  {
   "cell_type": "markdown",
   "id": "50e26b95",
   "metadata": {},
   "source": [
    "# Day 7"
   ]
  },
  {
   "cell_type": "markdown",
   "id": "7ccef58f",
   "metadata": {},
   "source": [
    "## part 1"
   ]
  },
  {
   "cell_type": "code",
   "execution_count": 2,
   "id": "f9473223",
   "metadata": {},
   "outputs": [],
   "source": [
    "day7_file = open('day7.txt', 'r')\n",
    "day7_text = day7_file.read()"
   ]
  },
  {
   "cell_type": "code",
   "execution_count": 3,
   "id": "d4d483c6",
   "metadata": {},
   "outputs": [],
   "source": [
    "test_input = \"\"\"32T3K 765\n",
    "T55J5 684\n",
    "KK677 28\n",
    "KTJJT 220\n",
    "QQQJA 483\"\"\""
   ]
  },
  {
   "cell_type": "code",
   "execution_count": 4,
   "id": "1428b141",
   "metadata": {},
   "outputs": [
    {
     "data": {
      "text/plain": [
       "{'2': 1,\n",
       " '3': 2,\n",
       " '4': 3,\n",
       " '5': 4,\n",
       " '6': 5,\n",
       " '7': 6,\n",
       " '8': 7,\n",
       " '9': 8,\n",
       " 'T': 9,\n",
       " 'J': 10,\n",
       " 'Q': 11,\n",
       " 'K': 12,\n",
       " 'A': 13}"
      ]
     },
     "execution_count": 4,
     "metadata": {},
     "output_type": "execute_result"
    }
   ],
   "source": [
    "value_dict = {}\n",
    "for i, card in enumerate('2 3 4 5 6 7 8 9 T J Q K A'.split(\" \")):\n",
    "    value_dict[card] = i + 1\n",
    "    \n",
    "\n",
    "value_dict"
   ]
  },
  {
   "cell_type": "code",
   "execution_count": 5,
   "id": "de36c11c",
   "metadata": {},
   "outputs": [],
   "source": [
    "def hand_strength(hand):\n",
    "    hand_strength = 0\n",
    "    results = collections.Counter(hand)\n",
    "    max_value = max(results.values())\n",
    "    # 5 of a kind\n",
    "    if max_value == 5:\n",
    "        hand_strength = 6\n",
    "    # 4 of a kind\n",
    "    elif max_value == 4:\n",
    "        hand_strength = 5\n",
    "    # full house\n",
    "    elif max_value == 3 and sorted(results.values())[-2] == 2:\n",
    "        hand_strength = 4\n",
    "    # 3 of a kind\n",
    "    elif max_value == 3 and sorted(results.values())[-2] != 2:\n",
    "        hand_strength = 3\n",
    "    # 1 pair\n",
    "    elif max_value == 2:\n",
    "        hand_strength = 2\n",
    "    # high card\n",
    "    elif max_value == 1:\n",
    "        hand_strength = 1      \n",
    "        \n",
    "    return hand_strength"
   ]
  },
  {
   "cell_type": "code",
   "execution_count": 6,
   "id": "f11de79a",
   "metadata": {},
   "outputs": [],
   "source": [
    "def calculate_winnings(text):\n",
    "    cols = ['hand','bid']\n",
    "    \n",
    "    lines = text.split(\"\\n\")\n",
    "    hands = []\n",
    "    bids = []\n",
    "    strength = []\n",
    "    for line in lines:\n",
    "        hands.append(line.split(\" \")[0].strip())\n",
    "        bids.append(int(line.split(\" \")[1].strip()))\n",
    "        strength.append(hand_strength(line.split(\" \")[0].strip()))\n",
    "    hand_dict = {'hand' : hands, 'bid': bids,'strength' : strength}\n",
    "    \n",
    "    hand_df = pd.DataFrame(hand_dict)\n",
    "    return hand_df"
   ]
  },
  {
   "cell_type": "code",
   "execution_count": 7,
   "id": "b3750b56",
   "metadata": {},
   "outputs": [],
   "source": [
    "# Function to split string into individual characters and create new columns\n",
    "def split_characters(row):\n",
    "    chars = list(row['hand'])\n",
    "    for i, char in enumerate(chars):\n",
    "        row[f'card{i+1}'] = value_dict[char]\n",
    "    return row"
   ]
  },
  {
   "cell_type": "code",
   "execution_count": 11,
   "id": "30da7c98",
   "metadata": {},
   "outputs": [
    {
     "data": {
      "text/html": [
       "<div>\n",
       "<style scoped>\n",
       "    .dataframe tbody tr th:only-of-type {\n",
       "        vertical-align: middle;\n",
       "    }\n",
       "\n",
       "    .dataframe tbody tr th {\n",
       "        vertical-align: top;\n",
       "    }\n",
       "\n",
       "    .dataframe thead th {\n",
       "        text-align: right;\n",
       "    }\n",
       "</style>\n",
       "<table border=\"1\" class=\"dataframe\">\n",
       "  <thead>\n",
       "    <tr style=\"text-align: right;\">\n",
       "      <th></th>\n",
       "      <th>hand</th>\n",
       "      <th>bid</th>\n",
       "      <th>strength</th>\n",
       "      <th>card1</th>\n",
       "      <th>card2</th>\n",
       "      <th>card3</th>\n",
       "      <th>card4</th>\n",
       "      <th>card5</th>\n",
       "      <th>winnings</th>\n",
       "    </tr>\n",
       "  </thead>\n",
       "  <tbody>\n",
       "    <tr>\n",
       "      <th>0</th>\n",
       "      <td>23579</td>\n",
       "      <td>396</td>\n",
       "      <td>1</td>\n",
       "      <td>1</td>\n",
       "      <td>2</td>\n",
       "      <td>4</td>\n",
       "      <td>6</td>\n",
       "      <td>8</td>\n",
       "      <td>396</td>\n",
       "    </tr>\n",
       "    <tr>\n",
       "      <th>1</th>\n",
       "      <td>239T5</td>\n",
       "      <td>832</td>\n",
       "      <td>1</td>\n",
       "      <td>1</td>\n",
       "      <td>2</td>\n",
       "      <td>8</td>\n",
       "      <td>9</td>\n",
       "      <td>4</td>\n",
       "      <td>1664</td>\n",
       "    </tr>\n",
       "    <tr>\n",
       "      <th>2</th>\n",
       "      <td>248KA</td>\n",
       "      <td>173</td>\n",
       "      <td>1</td>\n",
       "      <td>1</td>\n",
       "      <td>3</td>\n",
       "      <td>7</td>\n",
       "      <td>12</td>\n",
       "      <td>13</td>\n",
       "      <td>519</td>\n",
       "    </tr>\n",
       "    <tr>\n",
       "      <th>3</th>\n",
       "      <td>249TA</td>\n",
       "      <td>423</td>\n",
       "      <td>1</td>\n",
       "      <td>1</td>\n",
       "      <td>3</td>\n",
       "      <td>8</td>\n",
       "      <td>9</td>\n",
       "      <td>13</td>\n",
       "      <td>1692</td>\n",
       "    </tr>\n",
       "    <tr>\n",
       "      <th>4</th>\n",
       "      <td>254AJ</td>\n",
       "      <td>785</td>\n",
       "      <td>1</td>\n",
       "      <td>1</td>\n",
       "      <td>4</td>\n",
       "      <td>3</td>\n",
       "      <td>13</td>\n",
       "      <td>10</td>\n",
       "      <td>3925</td>\n",
       "    </tr>\n",
       "    <tr>\n",
       "      <th>...</th>\n",
       "      <td>...</td>\n",
       "      <td>...</td>\n",
       "      <td>...</td>\n",
       "      <td>...</td>\n",
       "      <td>...</td>\n",
       "      <td>...</td>\n",
       "      <td>...</td>\n",
       "      <td>...</td>\n",
       "      <td>...</td>\n",
       "    </tr>\n",
       "    <tr>\n",
       "      <th>995</th>\n",
       "      <td>AA5AA</td>\n",
       "      <td>241</td>\n",
       "      <td>5</td>\n",
       "      <td>13</td>\n",
       "      <td>13</td>\n",
       "      <td>4</td>\n",
       "      <td>13</td>\n",
       "      <td>13</td>\n",
       "      <td>240036</td>\n",
       "    </tr>\n",
       "    <tr>\n",
       "      <th>996</th>\n",
       "      <td>AA7AA</td>\n",
       "      <td>135</td>\n",
       "      <td>5</td>\n",
       "      <td>13</td>\n",
       "      <td>13</td>\n",
       "      <td>6</td>\n",
       "      <td>13</td>\n",
       "      <td>13</td>\n",
       "      <td>134595</td>\n",
       "    </tr>\n",
       "    <tr>\n",
       "      <th>997</th>\n",
       "      <td>AA8AA</td>\n",
       "      <td>353</td>\n",
       "      <td>5</td>\n",
       "      <td>13</td>\n",
       "      <td>13</td>\n",
       "      <td>7</td>\n",
       "      <td>13</td>\n",
       "      <td>13</td>\n",
       "      <td>352294</td>\n",
       "    </tr>\n",
       "    <tr>\n",
       "      <th>998</th>\n",
       "      <td>AAJAA</td>\n",
       "      <td>842</td>\n",
       "      <td>5</td>\n",
       "      <td>13</td>\n",
       "      <td>13</td>\n",
       "      <td>10</td>\n",
       "      <td>13</td>\n",
       "      <td>13</td>\n",
       "      <td>841158</td>\n",
       "    </tr>\n",
       "    <tr>\n",
       "      <th>999</th>\n",
       "      <td>JJJJJ</td>\n",
       "      <td>762</td>\n",
       "      <td>6</td>\n",
       "      <td>10</td>\n",
       "      <td>10</td>\n",
       "      <td>10</td>\n",
       "      <td>10</td>\n",
       "      <td>10</td>\n",
       "      <td>762000</td>\n",
       "    </tr>\n",
       "  </tbody>\n",
       "</table>\n",
       "<p>1000 rows × 9 columns</p>\n",
       "</div>"
      ],
      "text/plain": [
       "      hand  bid  strength  card1  card2  card3  card4  card5  winnings\n",
       "0    23579  396         1      1      2      4      6      8       396\n",
       "1    239T5  832         1      1      2      8      9      4      1664\n",
       "2    248KA  173         1      1      3      7     12     13       519\n",
       "3    249TA  423         1      1      3      8      9     13      1692\n",
       "4    254AJ  785         1      1      4      3     13     10      3925\n",
       "..     ...  ...       ...    ...    ...    ...    ...    ...       ...\n",
       "995  AA5AA  241         5     13     13      4     13     13    240036\n",
       "996  AA7AA  135         5     13     13      6     13     13    134595\n",
       "997  AA8AA  353         5     13     13      7     13     13    352294\n",
       "998  AAJAA  842         5     13     13     10     13     13    841158\n",
       "999  JJJJJ  762         6     10     10     10     10     10    762000\n",
       "\n",
       "[1000 rows x 9 columns]"
      ]
     },
     "execution_count": 11,
     "metadata": {},
     "output_type": "execute_result"
    }
   ],
   "source": [
    "df = calculate_winnings(day7_text)\n",
    "df = df.apply(split_characters,axis=1)\n",
    "\n",
    "df.sort_values(by=['strength','card1','card2','card3','card4','card5'],ascending=True,inplace=True)\n",
    "df.reset_index(inplace=True,drop=True)\n",
    "df['winnings'] = df['bid'] * (df.index + 1)\n",
    "df"
   ]
  },
  {
   "cell_type": "code",
   "execution_count": 14,
   "id": "8cb6dce5",
   "metadata": {
    "scrolled": true
   },
   "outputs": [
    {
     "data": {
      "text/plain": [
       "249763999"
      ]
     },
     "execution_count": 14,
     "metadata": {},
     "output_type": "execute_result"
    }
   ],
   "source": [
    "df['winnings'].sum()"
   ]
  },
  {
   "cell_type": "code",
   "execution_count": null,
   "id": "3d750df6",
   "metadata": {},
   "outputs": [],
   "source": []
  }
 ],
 "metadata": {
  "kernelspec": {
   "display_name": "Python 3 (ipykernel)",
   "language": "python",
   "name": "python3"
  },
  "language_info": {
   "codemirror_mode": {
    "name": "ipython",
    "version": 3
   },
   "file_extension": ".py",
   "mimetype": "text/x-python",
   "name": "python",
   "nbconvert_exporter": "python",
   "pygments_lexer": "ipython3",
   "version": "3.10.9"
  }
 },
 "nbformat": 4,
 "nbformat_minor": 5
}
